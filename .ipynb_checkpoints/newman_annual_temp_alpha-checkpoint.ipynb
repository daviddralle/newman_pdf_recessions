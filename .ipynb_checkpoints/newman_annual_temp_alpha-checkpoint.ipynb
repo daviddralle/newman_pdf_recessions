{
 "cells": [
  {
   "cell_type": "code",
   "execution_count": 106,
   "metadata": {
    "collapsed": false
   },
   "outputs": [],
   "source": [
    "%matplotlib inline\n",
    "import matplotlib.pyplot as plt\n",
    "import os\n",
    "import sys\n",
    "from os.path import dirname\n",
    "import pickle\n",
    "import pandas as pd\n",
    "import glob\n",
    "import shapely\n",
    "from shapely import geometry,ops\n",
    "import numpy as np\n",
    "import matplotlib.cm as cm\n",
    "import seaborn\n",
    "import datetime\n",
    "import pyproj\n",
    "import seaborn as sns\n",
    "import geopandas as gp\n",
    "site_data = gp.read_file('./USGS_Streamgages-NHD_Locations.shp')\n",
    "newman_df = pickle.load(open('/Users/daviddralle/Desktop/newman_df.p','rb'))"
   ]
  },
  {
   "cell_type": "code",
   "execution_count": 10,
   "metadata": {
    "collapsed": false
   },
   "outputs": [],
   "source": [
    "# get paths to streamflow data for each Newman basin\n",
    "folders = os.listdir('./usgs_streamflow')\n",
    "fh = []\n",
    "fh = [folders[i] for i in range(len(folders)) if len(folders[i])==2]\n",
    "\n",
    "flow_files = []\n",
    "for f in fh: \n",
    "    try:\n",
    "        \n",
    "        flow_files.append(glob.glob('./usgs_streamflow/' + f + '/*.txt'))\n",
    "    except RuntimeError:\n",
    "        print 'Cannot find streamflow file.'\n",
    "        \n",
    "flow_files = [item for sublist in flow_files for item in sublist]"
   ]
  },
  {
   "cell_type": "code",
   "execution_count": 139,
   "metadata": {
    "collapsed": false
   },
   "outputs": [
    {
     "name": "stderr",
     "output_type": "stream",
     "text": [
      "/Users/daviddralle/anaconda2/envs/py2k_model/lib/python2.7/site-packages/numpy/core/_methods.py:59: RuntimeWarning: Mean of empty slice.\n",
      "  warnings.warn(\"Mean of empty slice.\", RuntimeWarning)\n"
     ]
    }
   ],
   "source": [
    "dates = []\n",
    "qinc_anomaly = []\n",
    "T_anomaly = []\n",
    "P_anomaly = []\n",
    "meantemp_color = []\n",
    "theyear = []\n",
    "\n",
    "for fh in np.random.choice(flow_files, 100):\n",
    "    site = fh.split('/')[-1][:8]\n",
    "    weather = pickle.load( open('./daymet_newman/'+site+'_daymet.p', 'rb') )\n",
    "    weather['tmean'] = (weather.tmax + weather.tmin)/2.0\n",
    "    df = pd.read_csv(fh, delim_whitespace=True, header=-1)\n",
    "    df.columns = ['gagenum', 'Year', 'Month', 'Day', 'q', 'e']\n",
    "    df['date'] = df[['Year', 'Month', 'Day']].apply(lambda s : datetime.datetime(*s),axis = 1)\n",
    "    df = df[['q', 'date']]\n",
    "    df.set_index('date', inplace=True)\n",
    "    df['date'] = df.index\n",
    "    df.q += 1e-12 # having flow exactly equal to zero can cause problems with logs\n",
    "    df.q *= 2.447e9 #cm^3/day\n",
    "    area = float(site_data['DA_SQ_MILE'].loc[site_data.SITE_NO==site])*2.58998811e10 #cm^2\n",
    "    df.q = df.q/area # cm/day\n",
    "    weather = weather.loc[df.index]\n",
    "    weather = weather.loc[df.q>0]\n",
    "    df = df.loc[df.q>0]\n",
    "    \n",
    "    diffq = np.diff(df.q)\n",
    "    mean_qinc = np.mean(diffq[diffq>0])\n",
    "#     meantemp = np.mean(weather.tmean)\n",
    "    meantemp = np.mean(weather.tmean)\n",
    "    meanprcp = np.mean(weather.prcp.loc[weather.prcp>0])\n",
    "    P\n",
    "    \n",
    "#     for year in list(set(df.index.year)):\n",
    "#         if len(df.loc[df.index.year==year])<365: \n",
    "#             continue\n",
    "#         dftemp = df.loc[df.index.year==year]\n",
    "#         weathertemp = weather.loc[weather.index.year==year]\n",
    "#         diffq = np.diff(dftemp.q)\n",
    "#         qinctemp = np.mean(diffq[diffq>0])\n",
    "# #         qinctemp = np.percentile(diffq[diffq>0],95)\n",
    "#         qinc_anomaly.append((qinctemp-mean_qinc)/mean_qinc)\n",
    "# #         tmeantemp = np.mean(weathertemp.tmean)\n",
    "#         tmeantemp = np.mean(weathertemp.tmax)\n",
    "#         T_anomaly.append((tmeantemp-meantemp)/meantemp)\n",
    "#         meanprcptemp = np.mean(weathertemp.prcp.loc[weathertemp.prcp>0])\n",
    "#         P_anomaly.append((meanprcptemp-meanprcp)/meanprcp)\n",
    "#         meantemp_color.append(meantemp)\n",
    "#         theyear.append(year)\n",
    "        \n",
    "        \n",
    "    "
   ]
  },
  {
   "cell_type": "code",
   "execution_count": 140,
   "metadata": {
    "collapsed": false
   },
   "outputs": [
    {
     "data": {
      "text/plain": [
       "(-2, 2)"
      ]
     },
     "execution_count": 140,
     "metadata": {},
     "output_type": "execute_result"
    },
    {
     "data": {
      "image/png": "[encoded data removed]",
      "text/plain": [
       "<matplotlib.figure.Figure at 0x12cc11390>"
      ]
     },
     "metadata": {},
     "output_type": "display_data"
    }
   ],
   "source": [
    "T_anomaly = np.array(T_anomaly)\n",
    "P_anomaly = np.array(P_anomaly)\n",
    "qinc_anomaly = np.array(qinc_anomaly)\n",
    "idx = (np.isfinite(T_anomaly))&(np.isfinite(P_anomaly))&(T_anomaly<2)\n",
    "\n",
    "sns.jointplot(T_anomaly[idx], P_anomaly[idx], kind='kde', xlim=[-2,2])\n",
    "plt.plot(T_anomaly[idx], P_anomaly[idx],'o',alpha=0.01)\n",
    "\n",
    "plt.xlabel('Temp anomaly')\n",
    "plt.ylabel('Corresponding Q increment anomaly')\n",
    "plt.xlim([-2,2])"
   ]
  }
 ],
 "metadata": {
  "anaconda-cloud": {},
  "kernelspec": {
   "display_name": "Python [conda env:py2k_model]",
   "language": "python",
   "name": "conda-env-py2k_model-py"
  },
  "language_info": {
   "codemirror_mode": {
    "name": "ipython",
    "version": 2
   },
   "file_extension": ".py",
   "mimetype": "text/x-python",
   "name": "python",
   "nbconvert_exporter": "python",
   "pygments_lexer": "ipython2",
   "version": "2.7.12"
  }
 },
 "nbformat": 4,
 "nbformat_minor": 1
}
