{
 "cells": [
  {
   "cell_type": "code",
   "execution_count": 1,
   "metadata": {
    "collapsed": false
   },
   "outputs": [],
   "source": [
    "#setup plotting and special functions\n",
    "import sys\n",
    "sys.path.append('os.getcwd()')\n",
    "import numpy as np\n",
    "import matplotlib.pyplot as plt\n",
    "import seaborn as sns\n",
    "import pandas as pd\n",
    "from scipy import special, optimize, integrate\n",
    "from numpy import random\n",
    "from numpy import exp as exp\n",
    "def gamma_porp(a,b):\n",
    "    from scipy import special\n",
    "    return special.gamma(a)-special.gamma(a)*special.gammainc(a,b)\n",
    "import geopandas as gp\n",
    "import urllib2\n",
    "%matplotlib inline\n",
    "import scipy\n",
    "from peakdetect import peakdet as peakdet\n",
    "from scipy.optimize import curve_fit\n",
    "from matplotlib import rc\n",
    "rc('font',**{'family':'sans-serif','sans-serif':['Helvetica']})\n",
    "rc('text', usetex=True)"
   ]
  },
  {
   "cell_type": "code",
   "execution_count": 8,
   "metadata": {
    "collapsed": true
   },
   "outputs": [],
   "source": [
    "def g(q,p):\n",
    "    if np.size(np.array(q)) == 1: return np.exp(np.sum([p[i]*np.log(q)**(len(p)-i-1) for i in range(len(p))]))\n",
    "    return [np.exp(np.sum([p[i]*np.log(qq)**(len(p)-i-1) for i in range(len(p))])) for qq in np.array(q)]\n",
    "\n",
    "def KirchnerG(q,a,b,c):\n",
    "    return np.exp(a*np.log(q)**2 + b*np.log(q) + c)\n",
    "\n",
    "def KirchnerBinning(df, loud=False):\n",
    "    df = df.sort_values(by='q',ascending=False)\n",
    "    \n",
    "    logQ = np.array(np.log(df.q))\n",
    "    \n",
    "    logRange = np.max(logQ) - np.min(logQ)\n",
    "    minBinSize = logRange*.01\n",
    "  \n",
    "    binBoundaries = [0]\n",
    "    for i in range(1,len(df)):    \n",
    "        if abs(logQ[i] - logQ[binBoundaries[-1]]) < minBinSize: \n",
    "            if loud: print('Bin too small')\n",
    "            continue\n",
    "            \n",
    "        curr = df.Dunsmooth[binBoundaries[-1]:i]\n",
    "        if np.std(-curr)/np.sqrt(abs(i-binBoundaries[-1])) > np.mean(-curr)/2: \n",
    "            if loud: print('Bin too heterogeneous')\n",
    "            continue    \n",
    "        \n",
    "        binBoundaries.append(i)\n",
    "    \n",
    "    return binBoundaries\n",
    "\n",
    "def getFlow(site):\n",
    "    '''\n",
    "        Input: USGS gage number\n",
    "        \n",
    "        Output: pandas data frame of volumetric streamflow (over period of record at the gage) indexed by datetime\n",
    "    '''\n",
    "    \n",
    "    try: \n",
    "        f = open('flow_data/'+ site + '.txt','r')\n",
    "    except: \n",
    "        print('downloading data')\n",
    "        site = str(site)\n",
    "\n",
    "        url = 'https://waterdata.usgs.gov/nwis/dv?cb_00060=on&format=rdb&site_no=' + site + '&referred_module=sw&period=&begin_date=1950-01-01&end_date=2017-05-01'\n",
    "        response = urllib2.urlopen(url)\n",
    "        content = response.read()\n",
    "\n",
    "        f = open('flow_data/'+ site+'.txt','w')\n",
    "        f.write(content)\n",
    "        f.close()\n",
    "\n",
    "    count = 0\n",
    "    for line in open('flow_data/'+ site+'.txt','r').readlines():\n",
    "        if line[0] == '#': \n",
    "            count += 1\n",
    "        else:\n",
    "            break\n",
    "\n",
    "    df = pd.read_csv('flow_data/'+ site+'.txt', header=count, delimiter='\\t')\n",
    "\n",
    "    q_col = next(col for col in df.columns if col.endswith('00060_00003'))\n",
    "    \n",
    "    df.rename(columns={q_col: 'q', 'datetime':'date'}, inplace=True)    \n",
    "    df = df.iloc[1:,:]\n",
    "    df = df.dropna()\n",
    "\n",
    "    df.date = pd.to_datetime(df.date)\n",
    "    df.q = pd.to_numeric(df.q)\n",
    "    \n",
    "    df.index = pd.to_datetime(df.date)\n",
    "    \n",
    "    return df\n",
    "\n",
    "def _finditem(obj, key):\n",
    "    if key in obj: return obj[key]\n",
    "    for k, v in obj.items():\n",
    "        if isinstance(v,dict):\n",
    "            return _finditem(v, key)"
   ]
  },
  {
   "cell_type": "code",
   "execution_count": 9,
   "metadata": {
    "collapsed": false,
    "scrolled": false
   },
   "outputs": [
    {
     "data": {
      "image/png": "[encoded data removed]",
      "text/plain": [
       "<matplotlib.figure.Figure at 0x12e9df090>"
      ]
     },
     "metadata": {},
     "output_type": "display_data"
    }
   ],
   "source": [
    "# Setup sitelist (by USGS gage id) and seasons for extraction\n",
    "site_data = gp.read_file('./USGS_Streamgages-NHD_Locations.shp')\n",
    "sitelist = ['11475560']\n",
    "seasons = ['wet']\n",
    "start_stop = [ (pd.to_datetime('1950-1-1'), pd.to_datetime('2017-1-1')) ]\n",
    "fittingType = 'KirchnerBins'\n",
    "Kdict = {}\n",
    "datedict = {}\n",
    "A = {}\n",
    "B = {}\n",
    "P = {}\n",
    "\n",
    "# Recession extraction options\n",
    "option=1\n",
    "start = 1\n",
    "selectivity = 200\n",
    "window = 3\n",
    "minLen = 5\n",
    "\n",
    "for ind, site in enumerate(sitelist):\n",
    "    area = float(site_data['DA_SQ_MILE'].loc[site_data.SITE_NO==site])\n",
    "    d = getFlow(site)\n",
    "    d.q += 1e-12 # having flow exactly equal to zero can cause problems with logs\n",
    "    d.q = d.q/(2.58998811e10*area)*2.44657555e9 \n",
    "    d = d.loc[start_stop[ind][0]:start_stop[ind][1]]\n",
    "    \n",
    "    \n",
    "\n",
    "    # FOR streamflow.txt in fh, load data, get median k by extracting individual recessions\n",
    "    # and fitting q(t) = q0*exp(-kt)\n",
    "\n",
    "    def func(t, q0, k):\n",
    "        return q0*np.exp(-k*t)\n",
    "    Ks = []\n",
    "    dateList = []\n",
    "    if seasons[ind]=='winter':\n",
    "        tw = len(pd.date_range('12-2015', '3-2016'))\n",
    "        d = d.q.loc[(d.index.month>=12)|(d.index.month<=2)].ffill()\n",
    "    elif seasons[ind]=='spring': \n",
    "        tw = len(pd.date_range('3-2016', '6-2016'))\n",
    "        d = d.q.loc[(d.index.month>=3)&(d.index.month<=5)].ffill()\n",
    "    elif seasons[ind]=='summer':\n",
    "        tw = len(pd.date_range('6-2016', '9-2016'))\n",
    "        d = d.q.loc[(d.index.month>=6)&(d.index.month<=8)].ffill()\n",
    "    elif seasons[ind]=='fall':\n",
    "        tw = len(pd.date_range('9-2016', '12-2016'))\n",
    "        d = d.q.loc[(d.index.month>=9)&(d.index.month<=11)].ffill()\n",
    "    elif seasons[ind]=='wet':\n",
    "        tw = len(pd.date_range('11-2016', '4-2017'))\n",
    "        d = d.q.loc[(d.index.month>=11)|(d.index.month<=4)].ffill()  \n",
    "\n",
    "    # hang on to dates for later use\n",
    "    dates = d.index\n",
    "    d = pd.DataFrame({'q':d.tolist()})\n",
    "    selector = (d.q.max()-d.q.min())/selectivity\n",
    "    [maxtab, mintab]=peakdet(d.q, selector)\n",
    "    d['peaks']=-1\n",
    "    d.ix[maxtab[:,0].astype(int),'peaks']=maxtab[:,1]\n",
    "    d['smooth']= d.q.rolling(window).mean(); d['smooth'][0:2] = d.q[0:2]\n",
    "    d['Dunsmooth']= d.q.diff().shift(-1)\n",
    "    d['DDsmooth']=d['smooth'].diff().shift(-1).diff().shift(-1)\n",
    "    d['DDunsmooth'] = d.q.diff().shift(-1).diff().shift(-1)\n",
    "    d = d[:-2]\n",
    "\n",
    "    #boolean vector for recession periods \n",
    "    if option==0:\n",
    "        d['choose']=d['Dunsmooth']<=0\n",
    "    else:\n",
    "        d['choose']=(d['Dunsmooth']<0) & ((d['DDsmooth']>=0)|(d['DDunsmooth']>=0))\n",
    "\n",
    "    datesMax = d.ix[d['peaks']>0].index\n",
    "\n",
    "    for i in np.arange(len(datesMax)-1):\n",
    "        recStart = datesMax[i]; peak1 = datesMax[i]+start; peak2 = datesMax[i+1]\n",
    "        recEnd = d[peak1:peak2][d[peak1:peak2]['choose']==False].index[0]\n",
    "        if (len(d[recStart:recEnd])<minLen) | (np.any(d.q[recStart:recEnd]<0)):\n",
    "            continue\n",
    "        t = np.arange(len(d.q[recStart:recEnd]))\n",
    "        q0 = d.q[recStart]\n",
    "\n",
    "        try:\n",
    "    #         popt, cov = curve_fit(func,t[0:-1],d.q[recStart:(recEnd-1)])\n",
    "            popt, cov = curve_fit(func,t,d.q[recStart:(recEnd)])\n",
    "\n",
    "        except RuntimeError:\n",
    "            print('Error encountered in fitting')\n",
    "            continue\n",
    "\n",
    "        Ks.append(popt[1])\n",
    "        dateList.append(dates[i])\n",
    "        \n",
    "    # Perform Kirchner fitting\n",
    "    if fittingType == 'KirchnerBins':\n",
    "        recessions = d.loc[d.choose]\n",
    "        binBoundaries = KirchnerBinning(d.loc[d.choose])\n",
    "        qs = [np.mean(recessions.q[binBoundaries[i]:binBoundaries[i+1]]) for i in range(len(binBoundaries)-1)]\n",
    "        dqs =   np.array([np.mean(recessions.Dunsmooth[binBoundaries[i]:binBoundaries[i+1]]) for i in range(len(binBoundaries)-1)])\n",
    "        sigmas = np.array([np.std(recessions.Dunsmooth[binBoundaries[i]:binBoundaries[i+1]])/np.sqrt(binBoundaries[i+1]-binBoundaries[i]) for i in range(len(binBoundaries)-1)])\n",
    "        sigmas = np.ones(np.shape(sigmas))\n",
    "        p = np.polyfit(x=np.log(qs), y=np.log(-dqs), deg=2, w=1/(sigmas+1e-12))\n",
    "        p_powerlaw = np.polyfit(x=np.log(qs), y=np.log(-dqs), deg=1, w=1/(sigmas+1e-12))\n",
    "        bcurr = p_powerlaw[0]\n",
    "        acurr = np.exp(p_powerlaw[1])\n",
    "        p[1] = p[1]-1\n",
    "        \n",
    "        plt.figure(figsize=(5,4))\n",
    "        plt.plot(np.log(qs), np.log(-dqs), c='g', alpha=0.5, lw=0, marker='o', label='log(-dq/dt)')\n",
    "        plt.plot(np.log(qs), p_powerlaw[1] + p_powerlaw[0]*np.log(qs), label='power law')\n",
    "        plt.plot(np.sort(np.log(qs)), p[2] + (p[1]+1)*np.sort(np.log(qs)) + p[0]*np.sort(np.log(qs))**2, label='kirchner quadratic', c='k')\n",
    "        plt.legend(loc='best')\n",
    "        titlestr = 'Catchment id: %s, %s'%(site, seasons[ind])\n",
    "        plt.title('%s'%(titlestr))\n",
    "\n",
    "    elif fittingType == 'KirchnerNonlinear': \n",
    "        ## use the linear coefficients as the init cond for the nonlinear solver\n",
    "        p = np.polyfit(np.log(recessions.q),np.log(-recessions.dq/recessions.q),2)        \n",
    "        p, cov = curve_fit(lambda x, a, b, c: KirchnerG(x,a,b,c), recessions.q, -recessions.dq/recessions.q, p0=p) \n",
    "    else:\n",
    "        p = np.polyfit(np.log(recessions.q),np.log(-recessions.dq/recessions.q),2)\n",
    "\n",
    "    A[(site, seasons[ind])] = acurr\n",
    "    B[(site, seasons[ind])] = bcurr\n",
    "    P[(site, seasons[ind])] = p\n",
    "    Kdict[(site, seasons[ind])] = Ks\n",
    "    datedict[(site, seasons[ind])] = dateList"
   ]
  },
  {
   "cell_type": "code",
   "execution_count": 11,
   "metadata": {
    "collapsed": false
   },
   "outputs": [
    {
     "name": "stdout",
     "output_type": "stream",
     "text": [
      "For site 11475560, wet: mean k is 0.25 from 218 recessions\n",
      "\t Kirchner binned: power law scale a = 0.23, power law exponent b = 1.30\n"
     ]
    }
   ],
   "source": [
    "for key in Kdict.keys():\n",
    "    print('For site %s, %s: mean k is %.2f from %s recessions'%(key[0], key[1], np.mean(Kdict[key]), len(Kdict[key])))\n",
    "    print('\\t Kirchner binned: power law scale a = %.2f, power law exponent b = %.2f'%(A[key], B[key]))"
   ]
  },
  {
   "cell_type": "code",
   "execution_count": 13,
   "metadata": {
    "collapsed": false
   },
   "outputs": [
    {
     "data": {
      "text/plain": [
       "<matplotlib.legend.Legend at 0x12836e9d0>"
      ]
     },
     "execution_count": 13,
     "metadata": {},
     "output_type": "execute_result"
    },
    {
     "data": {
      "image/png": "[encoded data removed]",
      "text/plain": [
       "<matplotlib.figure.Figure at 0x10461ff90>"
      ]
     },
     "metadata": {},
     "output_type": "display_data"
    }
   ],
   "source": [
    "\n",
    "for key in P.keys():\n",
    "    p = P[key]\n",
    "    q = np.linspace(.01,10,1000)\n",
    "    a,b,c = p[0], p[1], p[2]\n",
    "    def KirchnerG(q,a,b,c):\n",
    "        return np.exp(a*np.log(q)**2 + b*np.log(q) + c)\n",
    "    g = KirchnerG(q,a,b,c)\n",
    "\n",
    "    s = []\n",
    "\n",
    "    for i in range(1,len(q)):\n",
    "        s.append(np.trapz(1/g[:i], q[:i]))\n",
    "    s = [0] + s\n",
    "    plt.plot(s,q, label='Site %s, %s'%(key[0], key[1]))\n",
    "    \n",
    "plt.legend(loc='best')"
   ]
  },
  {
   "cell_type": "code",
   "execution_count": null,
   "metadata": {
    "collapsed": true
   },
   "outputs": [],
   "source": []
  }
 ],
 "metadata": {
  "anaconda-cloud": {},
  "kernelspec": {
   "display_name": "Python [conda env:py2k_model]",
   "language": "python",
   "name": "conda-env-py2k_model-py"
  },
  "language_info": {
   "codemirror_mode": {
    "name": "ipython",
    "version": 2
   },
   "file_extension": ".py",
   "mimetype": "text/x-python",
   "name": "python",
   "nbconvert_exporter": "python",
   "pygments_lexer": "ipython2",
   "version": "2.7.12"
  }
 },
 "nbformat": 4,
 "nbformat_minor": 0
}
