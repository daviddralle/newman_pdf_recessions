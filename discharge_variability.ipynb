{
  "cells": [
    {
      "cell_type": "code",
      "source": [
        "# import needed packages\n",
        "%matplotlib inline\n",
        "import numpy as np, matplotlib.pylab as plt, seaborn as sns, mpmath as mp, scipy.special as ss, sys, datetime\n",
        "import scipy.stats as stats\n",
        "sys.path.append('os.getcwd()')\n",
        "import geopandas as gp, pandas as pd, urllib2\n",
        "from matplotlib import rc\n",
        "rc('font',**{'family':'sans-serif','sans-serif':['Helvetica']})\n",
        "rc('text', usetex=True)\n",
        "from pdf_ccdf import pdf_ccdf\n",
        "from pdf_functions import pdf_fitter as pdf_fitter\n",
        "from a_b_functions import kirchner_fitter as kirchner_fitter\n",
        "from a_b_functions import getFlow as getFlow\n",
        "from IRA_functions import assess_IRA as assess_IRA\n",
        "import warnings\n",
        "warnings.filterwarnings(\"ignore\")\n",
        "from pdf_functions import *"
      ],
      "outputs": [
        {
          "output_type": "stream",
          "name": "stderr",
          "text": [
            "/Users/deale/anaconda/envs/ipykernel_py2/lib/python2.7/site-packages/IPython/html.py:14: ShimWarning: The `IPython.html` package has been deprecated. You should import from `notebook` instead. `IPython.html.widgets` has moved to `ipywidgets`.\n",
            "  \"`IPython.html.widgets` has moved to `ipywidgets`.\", ShimWarning)\n"
          ]
        }
      ],
      "execution_count": 1,
      "metadata": {
        "collapsed": false,
        "outputHidden": false,
        "inputHidden": false
      }
    },
    {
      "cell_type": "code",
      "source": [
        "stationIDs = np.array([16103000, 16117000, 16130000, 16010000, 16049000, 16108000, 16116000, 16019000, 16036000, 16101000, 16115000, 16031000, 16047000, 16101003, 16114000, 16016000, 16037100, 16106000, 16013000, 16105000, 16017000, 16028000, 16031001, 16011000, 16012000, 16020000, 16021000, 16015000])\n",
        "\n",
        "B_pdf_hat_t = {}\n",
        "nu_hat_t = {}\n",
        "nu_2_t = {}\n",
        "# fig, ax = plt.subplots(1)\n",
        "for stationID in [16103000]:#stationIDs:\n",
        "    for season in ['wet']:#, 'dry', 'yr']:\n",
        "        fname = 'Kauai_discharge_txt/Kauai_discharge_timeseries_txt/USGS%i_%s.txt' % (stationID, season)\n",
        "        fname2 = 'USGS%i_%s' % (stationID, season)\n",
        "        print(fname)\n",
        "#         df = pd.read_csv(fname, header=None)\n",
        "#         print(df)\n",
        "#         sample = df.values[:,0]\n",
        "#         sample = sample[:1000]\n",
        "#         sample = sample[sample<=sample.max()/2.]\n",
        "\n",
        "#         B_pdf_hat_t[fname2], nu_hat_t[fname2], B_pdf_bse, nu_bse, mu_t, b_r2 = pdf_fitter(sample, ax=ax)\n",
        "#         B, nu_2_t[fname2], B_pdf_bse, nu_bse, mu_t, b_r2 = pdf_fitter(sample, b=2., ax=ax)"
      ],
      "outputs": [
        {
          "output_type": "stream",
          "name": "stdout",
          "text": [
            "Kauai_discharge_txt/Kauai_discharge_timeseries_txt/USGS16103000_wet.txt\n"
          ]
        }
      ],
      "execution_count": 16,
      "metadata": {
        "collapsed": false,
        "outputHidden": true,
        "inputHidden": false
      }
    },
    {
      "cell_type": "code",
      "source": [
        "df"
      ],
      "outputs": [
        {
          "output_type": "error",
          "ename": "NameError",
          "evalue": "name 'df' is not defined",
          "traceback": [
            "\u001b[0;31m\u001b[0m",
            "\u001b[0;31mNameError\u001b[0mTraceback (most recent call last)",
            "\u001b[0;32m<ipython-input-3-7ed0097d7e9e>\u001b[0m in \u001b[0;36m<module>\u001b[0;34m()\u001b[0m\n\u001b[0;32m----> 1\u001b[0;31m \u001b[0mdf\u001b[0m\u001b[0;34m\u001b[0m\u001b[0m\n\u001b[0m",
            "\u001b[0;31mNameError\u001b[0m: name 'df' is not defined"
          ]
        }
      ],
      "execution_count": 3,
      "metadata": {
        "collapsed": false,
        "outputHidden": false,
        "inputHidden": false
      }
    },
    {
      "cell_type": "code",
      "source": [
        "\n",
        "df = pd.DataFrame({'b_pdf':B_pdf_hat_t.values(), 'nu_pdf': nu_hat_t, 'nu_fix': nu_2_t, 'mu_sample': mu, 'mu_pdf_theory': mu_b, 'mu_fix_theory': mu_k}, index=B_pdf_hat_t.keys())\n",
        "file_name = 'Kauai_output.csv'\n",
        "df.to_csv(file_name, sep='\\t', encoding='utf-8')"
      ],
      "outputs": [],
      "execution_count": 214,
      "metadata": {
        "collapsed": false,
        "outputHidden": false,
        "inputHidden": false
      }
    },
    {
      "cell_type": "code",
      "source": [
        "from pdf_functions import *\n",
        "count = 0\n",
        "n = 84\n",
        "b_b  = np.zeros(n)\n",
        "nu_b = np.zeros(n)\n",
        "b_k  = np.zeros(n)\n",
        "nu_k = np.zeros(n)\n",
        "b_r2_b = np.zeros(n)\n",
        "b_r2_k = np.zeros(n)\n",
        "mu_k = {}\n",
        "mu_b = {}\n",
        "mu = {}\n",
        "for stationID in stationIDs:\n",
        "    for season in ['wet', 'dry', 'yr']:\n",
        "        fname2 = 'USGS%i_%s' % (stationID, season)\n",
        "#         b_b[count] = B_pdf_hat_t[fname2]\n",
        "#         nu_b[count] = nu_hat_t[fname2]\n",
        "#         b_k[count] = 2.\n",
        "#         nu_k[count] = nu_2_t[fname2]\n",
        "       \n",
        "        \n",
        "        fname = 'Kauai_discharge_txt/USGS%i_%s.txt' % (stationID, season)\n",
        "        df = pd.read_csv(fname, header=None)\n",
        "        sample = df.values[:,0] \n",
        "        mu_b[fname2] = sample.mean()/C_mean(b_b[count], nu_b[count], 1, sample.max())\n",
        "        mu_k[fname2] = sample.mean()/C_mean(b_k[count], nu_k[count], 1, sample.max())\n",
        "        mu[fname2] = sample.mean()\n",
        "        \n",
        "#         sample_r2 = sample/sample.mean()\n",
        "#         Qe = np.percentile(sample_r2, range(1,100))\n",
        "#         q_r2 = np.logspace(np.log10(sample_r2.min()), np.log10(sample_r2.max()), 10000)\n",
        "#         pdfq_r2 = pdfq_calc(b_b[count], nu_b[count], 1)\n",
        "#         pdf_r2 = pdfq_r2(q_r2)\n",
        "#         X = sint.cumtrapz(pdf_r2,q_r2)\n",
        "#         Qt = np.zeros(99)\n",
        "#         for ii in range(1,100):\n",
        "#             try:\n",
        "#                 idx = np.where(X>=ii/100.)[0][0]\n",
        "#                 Qt[ii-1] = q_r2[idx]\n",
        "#             except:\n",
        "#                 Qt[ii-1] = np.nan\n",
        "\n",
        "#         b_r2_b[count] = 1. - (np.nansum((Qt - Qe)**2) / np.nansum((Qe - Qe.mean())**2))\n",
        "        \n",
        "#         sample_r2 = sample/sample.mean()\n",
        "#         Qe = np.percentile(sample_r2, range(1,100))\n",
        "#         q_r2 = np.logspace(np.log10(sample_r2.min()), np.log10(sample_r2.max()), 10000)\n",
        "#         pdfq_r2 = pdfq_calc(b_k[count], nu_k[count], 1)\n",
        "#         pdf_r2 = pdfq_r2(q_r2)\n",
        "#         X = sint.cumtrapz(pdf_r2,q_r2)\n",
        "#         Qt = np.zeros(99)\n",
        "#         for ii in range(1,100):\n",
        "#             try:\n",
        "#                 idx = np.where(X>=ii/100.)[0][0]\n",
        "#                 Qt[ii-1] = q_r2[idx]\n",
        "#             except:\n",
        "#                 Qt[ii-1] = np.nan\n",
        "\n",
        "#         b_r2_k[count] = 1. - (np.nansum((Qt - Qe)**2) / np.nansum((Qe - Qe.mean())**2))\n",
        "\n        count += 1"
      ],
      "outputs": [],
      "execution_count": 213,
      "metadata": {
        "collapsed": false,
        "outputHidden": false,
        "inputHidden": false
      }
    },
    {
      "cell_type": "code",
      "source": [
        "mu"
      ],
      "outputs": [
        {
          "output_type": "execute_result",
          "execution_count": 210,
          "data": {
            "text/plain": [
              "array([ 713.64632846,  560.4595916 ,  636.89476248,   23.26966149,\n",
              "         17.47541215,   20.36650393,    6.6787013 ,    2.73472603,\n",
              "          5.73162829,  121.96196487,   68.42016356,   95.06738886,\n",
              "        290.29328463,  193.04586958,  241.61867163,  425.84413712,\n",
              "        340.55077011,  383.48740274,   20.26338162,   11.46903201,\n",
              "         15.83973168,   79.39253072,   40.31632067,   59.79237182,\n",
              "        332.41816555,  159.02629895,  245.76361456,  245.30297043,\n",
              "        200.73686886,  222.88003673,   55.61519512,   41.16446786,\n",
              "         48.3176728 ,  533.74796646,  164.77552765,  348.57378806,\n",
              "        281.72899276,  226.10797189,  254.14923664,  290.31190369,\n",
              "        259.40841033,  274.82553771,   26.4999202 ,   23.71576751,\n",
              "         25.10507218,  215.31648867,   96.33740556,  155.03024574,\n",
              "        433.6560207 ,  181.05549702,  310.83527308,  385.82545953,\n",
              "        272.83101528,  327.22054969,   34.58497984,   14.33640026,\n",
              "         24.35631593,   96.60039297,   82.87668729,   89.62746503,\n",
              "        104.99324665,   55.80700576,   80.12590859,  358.98634059,\n",
              "        107.05909161,  234.84618952,  884.14381344,  315.7370378 ,\n",
              "        599.35684577,   35.01573494,   12.17439648,   23.56761218,\n",
              "         23.92184644,    5.98415622,   15.19290005,   63.98097308,\n",
              "         44.87653216,   55.36822626,  118.95320896,   63.93676602,\n",
              "         91.42447427,   34.8743956 ,   21.10635246,   26.98847418])"
            ]
          },
          "metadata": {}
        }
      ],
      "execution_count": 210,
      "metadata": {
        "collapsed": false,
        "outputHidden": false,
        "inputHidden": false
      }
    },
    {
      "cell_type": "code",
      "source": [
        "\n",
        "# sns.distplot(b_b)\n",
        "# sns.jointplot(np.log10(nu_b), np.log10(nu_k), kind='kde')\n",
        "# sns.distplot(nu_b/nu_k)\n",
        "# plt.loglog(nu_b, nu_k, 'o')\n",
        "# sns.jointplot(b_b, np.log10(nu_b))\n",
        "# calculate r2 for fit distribution\n",
        "count = 0\n",
        "\n\n",
        "for stationID in stationIDs:\n",
        "    for season in ['wet', 'dry', 'yr']:\n",
        "#         fig = plt.figure(count, figsize=(5,4))\n",
        "        fname = 'Kauai_discharge_txt/USGS%i_%s.txt' % (stationID, season)\n",
        "        fname2 = 'USGS%i_%s' % (stationID, season)\n",
        "        df = pd.read_csv(fname, header=None)\n",
        "        sample = df.values[:,0]\n",
        "\n",
        "        \n",
        "        \n",
        "#         pdf, x = pdf_ccdf(sample)\n",
        "#         plt.loglog(x, pdf, 'ro', alpha=0.5)\n",
        "\n",
        "#         pdfq = pdfq_calc(b_b[count], nu_b[count], sample.mean())\n",
        "#         x = np.logspace(-5,5,1000)\n",
        "#         plt.plot(x, pdfq(x), 'k--', label='Kirchner: nu = %g, b = %g, r2 = %0.4f' % (nu_b[count], b_b[count], b_r2_b[count]))\n",
        "\n",
        "#         pdfq = pdfq_calc(b_k[count], nu_k[count], sample.mean())\n",
        "#         x = np.logspace(-5,5,1000)\n",
        "#         plt.plot(x, pdfq(x), 'k-', label='Botter: nu = %g, b = %g, r2 = %0.4f' % (nu_k[count], b_k[count], b_r2_k[count]))\n",
        "\n",
        "#         plt.xlabel('Normalized daily discharge magnitude')\n",
        "#         plt.ylabel('Probability density')\n",
        "#         plt.legend(frameon=True, fancybox=True, loc=0)\n",
        "#         plt.ylim(1e-6, 1e3)\n",
        "#         plt.xlim(1e-4, 1e3)\n",
        "        count += 1\n",
        "#         plt.savefig(fname2+'.png', dpi=100)"
      ],
      "outputs": [],
      "execution_count": 190,
      "metadata": {
        "collapsed": false,
        "outputHidden": false,
        "inputHidden": false
      }
    },
    {
      "cell_type": "code",
      "source": [
        "# sns.jointplot(np.log10(nu_b), np.log10(nu_k), kind='kde')\n",
        "plt.plot(b_b, nu_k/nu_b, 'o')\n",
        "# plt.xlim(1,3)\n",
        "# sns.distplot(np.log10(nu_k[b_r2_b>0.9]), label='kirchner')\n",
        "# sns.distplot(np.log10(nu_b[b_r2_b>0.9]), label='botter')\n",
        "# sns.jointplot(b_b[b_r2_b>0.9], nu_b[b_r2_b>0.9]/nu_k[b_r2_b>0.9])\n",
        "# plt.ylim(0,8)\n",
        "# print(b_r2_b.sum(), b_r2_k.sum())\n",
        "# for ii in range(28):\n",
        "#     plt.loglog([mu_k[ii],mu_b[ii]], [nu_k[ii], nu_b[ii]], 'ko-', alpha=0.5)\n",
        "#     plt.loglog(mu_b[ii], nu_b[ii], 'go')\n",
        "# plt.loglog(mu_k, mu, 'ro')\n",
        "# plt.loglog(mu_b, mu, 'go')"
      ],
      "outputs": [
        {
          "output_type": "execute_result",
          "execution_count": 194,
          "data": {
            "text/plain": [
              "[<matplotlib.lines.Line2D at 0x13bea4950>]"
            ]
          },
          "metadata": {}
        },
        {
          "output_type": "display_data",
          "data": {
            "image/png": "[encoded data removed]",
            "text/plain": [
              "<matplotlib.figure.Figure at 0x129a693d0>"
            ]
          },
          "metadata": {}
        }
      ],
      "execution_count": 194,
      "metadata": {
        "collapsed": false,
        "outputHidden": false,
        "inputHidden": false
      }
    },
    {
      "cell_type": "code",
      "source": [],
      "outputs": [],
      "execution_count": null,
      "metadata": {
        "collapsed": false,
        "outputHidden": false,
        "inputHidden": false
      }
    }
  ],
  "metadata": {
    "kernelspec": {
      "name": "python2",
      "language": "python",
      "display_name": "Python 2"
    },
    "kernel_info": {
      "name": "python2"
    },
    "language_info": {
      "mimetype": "text/x-python",
      "nbconvert_exporter": "python",
      "name": "python",
      "pygments_lexer": "ipython2",
      "version": "2.7.13",
      "file_extension": ".py",
      "codemirror_mode": {
        "version": 2,
        "name": "ipython"
      }
    }
  },
  "nbformat": 4,
  "nbformat_minor": 4
}