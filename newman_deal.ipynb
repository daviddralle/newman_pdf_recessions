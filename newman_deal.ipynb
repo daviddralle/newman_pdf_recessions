{
 "cells": [
  {
   "cell_type": "code",
   "execution_count": 4,
   "metadata": {
    "collapsed": false
   },
   "outputs": [],
   "source": [
    "%matplotlib inline\n",
    "import matplotlib.pyplot as plt\n",
    "import os\n",
    "import sys\n",
    "from os.path import dirname\n",
    "import pickle\n",
    "import pandas as pd\n",
    "import glob\n",
    "import shapely\n",
    "from shapely import geometry,ops\n",
    "import numpy as np\n",
    "import matplotlib.cm as cm\n",
    "import seaborn\n",
    "import datetime\n",
    "import pyproj\n",
    "newman_df = pickle.load(open('./newman_df.p','rb'))"
   ]
  },
  {
   "cell_type": "code",
   "execution_count": 5,
   "metadata": {
    "collapsed": false
   },
   "outputs": [],
   "source": [
    "# get paths to streamflow data for each Newman basin\n",
    "folders = os.listdir('./usgs_streamflow')\n",
    "fh = []\n",
    "fh = [folders[i] for i in range(len(folders)) if len(folders[i])==2]\n",
    "\n",
    "flow_files = []\n",
    "for f in fh: \n",
    "    try:\n",
    "        \n",
    "        flow_files.append(glob.glob('./usgs_streamflow/' + f + '/*.txt'))\n",
    "    except RuntimeError:\n",
    "        print 'Cannot find streamflow file.'\n",
    "        \n",
    "flow_files = [item for sublist in flow_files for item in sublist]"
   ]
  },
  {
   "cell_type": "code",
   "execution_count": 6,
   "metadata": {
    "collapsed": false
   },
   "outputs": [],
   "source": [
    "dates = []\n",
    "for fh in flow_files:\n",
    "    gageid = flow_files[1].split('/')[-1][:8]\n",
    "    weather = pickle.load( open('./daymet_newman/'+gageid+'_daymet.p', 'rb') )\n",
    "    d = pd.read_csv(fh, delim_whitespace=True, header=-1)\n",
    "    d.columns = ['gagenum', 'Year', 'Month', 'Day', 'q', 'e']\n",
    "#     d['date'] = d[['Year', 'Month', 'Day']].apply(lambda s : datetime.datetime(*s),axis = 1)\n",
    "#     d = d[['q', 'date']]\n",
    "#     d.set_index('date', inplace=True)\n",
    "#     d['date'] = d.index\n",
    "    \n",
    "#     d['q'] = d['q']*2.44e12   # convert to mm^3/day\n",
    "#     area_sqkm = soil_properties_by_gagenum['WsAreaSqKm'].loc[gagenum]\n",
    "#     area_mm = area_sqkm*1000000000000\n",
    "#     d['q'] = d['q']/area_mm"
   ]
  },
  {
   "cell_type": "code",
   "execution_count": 9,
   "metadata": {
    "collapsed": false
   },
   "outputs": [
    {
     "data": {
      "text/plain": [
       "'03450000'"
      ]
     },
     "execution_count": 9,
     "metadata": {},
     "output_type": "execute_result"
    }
   ],
   "source": [
    "gageid"
   ]
  },
  {
   "cell_type": "code",
   "execution_count": null,
   "metadata": {
    "collapsed": true
   },
   "outputs": [],
   "source": []
  }
 ],
 "metadata": {
  "anaconda-cloud": {},
  "kernelspec": {
   "display_name": "Python [conda env:py2k_model]",
   "language": "python",
   "name": "conda-env-py2k_model-py"
  },
  "language_info": {
   "codemirror_mode": {
    "name": "ipython",
    "version": 2
   },
   "file_extension": ".py",
   "mimetype": "text/x-python",
   "name": "python",
   "nbconvert_exporter": "python",
   "pygments_lexer": "ipython2",
   "version": "2.7.12"
  }
 },
 "nbformat": 4,
 "nbformat_minor": 1
}
